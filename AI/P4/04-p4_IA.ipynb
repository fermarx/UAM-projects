{
 "cells": [
  {
   "cell_type": "markdown",
   "metadata": {
    "id": "I_KgHJEuqJWG"
   },
   "source": [
    "## 4. Predicción de fugas de clientes en una compañía telefónica (7 puntos)"
   ]
  },
  {
   "cell_type": "markdown",
   "metadata": {
    "id": "UjkpzOPbqJWU"
   },
   "source": [
    "Una compañía telefónica está interesada en que desarrollemos un modelo que prediga los **100 clientes actuales** (dataset de explotaación) que tienen más probabilidad de abandonar la compañía. Para ello nos proporcionan una base de datos **fuga_clientes_empresa_telefonica_construccion.csv** con casos etiquetados, que usaremos para construir nuestro modelo de predicción.\n",
    "\n",
    "Los campos de esta base de datos son:\n",
    "\n",
    "* **Customer ID**\n",
    "\n",
    "* **network_age**: antigüedad del cliente en días\n",
    "\n",
    "* **Customer tenure in months:** antigüedad del cliente en meses\n",
    "\n",
    "* **Total Spend in Months 1 and 2:** gasto total del cliente en los meses de referencia 1 y 2\n",
    "\n",
    "* **Total SMS Spend:** gasto total en SMS\n",
    "\n",
    "* **Total Data Spend:** gasto total en datos/internet\n",
    "\n",
    "* **Total Data Consumption:** consumo total de datos (en KB) durante el período de estudio\n",
    "\n",
    "* **Total Unique Calls:** número total de llamadas únicas\n",
    "\n",
    "* **Total Onnet spend:** gasto total en llamadas a otros usuarios de la misma red de telefonía\n",
    "\n",
    "* **Total Offnet spend:** gasto total en llamadas a otros usuarios de redes de telefonía diferentes\n",
    "\n",
    "* **Total Call centre complaint calls:** número de llamadas de queja al call center\n",
    "\n",
    "* **Network type subscription in Month 1:** suscripción de tipo de red en el mes 1. Esto indica la suscripción de red preferida de un cliente, lo que puede indicar su tipo de dispositivo: servicio 2G o 3G\n",
    "\n",
    "* **Network type subscription in Month 2:** igual que el anterior pero en el mes posterior\n",
    "\n",
    "* **Churn Status**: el valor es 1 si el cliente abandona la compañía telefónica, 0 si permanece en ella\n",
    "\n",
    "* **Most Loved Competitor network in Month 1:** qué otro proveedor de la competencia prefiere el cliente en el mes 1. En realidad es un conjunto de columnas, cada una enfocada en un proveedor particular\n",
    "\n",
    "* **Most Loved Competitor network in Month 2:** qué otro proveedor de la competencia prefiere el cliente en el mes 2. En realidad es un conjunto de columnas, cada una enfocada en un proveedor particular\n",
    "\n",
    "La variable a predecir es **Churn Status**: el valor es 1 si el cliente **abandona** la compañía, 0 si no la abandona.\n",
    "\n",
    "La compañía también nos proporciona otra base de datos, **fuga_clientes_empresa_telefonica_explotacion.csv**, con información sobre clientes de los que no se sabe ahora mismo si van a permanecer o no en la compañía. Por tanto en esta segunda base de datos todos los valores de la columna **Churn Status** son missing values (NaN).\n",
    "\n",
    "La compañía nos pide que proporcionemos los IDs de los 100 clientes de la base de datos de explotación que con mayor probabilidad vayan a abandonar la compañía. Para ello proporcionaremos como entregable a la compañía un archivo csv con una sola columna, **Customer ID**, y 100 filas que contengan los IDs de los clientes seleccionados.\n",
    "\n",
    "El fichero **ejemplo_fichero_predicciones.csv** contiene un ejemplo con el formato solicitado para este archivo."
   ]
  },
  {
   "cell_type": "code",
   "execution_count": 10,
   "metadata": {
    "collapsed": true,
    "id": "VGfmsNL3qJWY"
   },
   "outputs": [],
   "source": [
    "import pandas as pd\n",
    "import numpy as np\n",
    "import matplotlib.pyplot as plt\n",
    "from sklearn.datasets import make_blobs, make_moons, make_circles\n",
    "from sklearn.model_selection import train_test_split, cross_val_score\n",
    "from sklearn.naive_bayes import GaussianNB\n",
    "from sklearn.neighbors import KNeighborsClassifier\n",
    "from sklearn.tree import DecisionTreeClassifier\n",
    "from sklearn.linear_model import LogisticRegression\n",
    "from sklearn.neural_network import MLPClassifier\n",
    "from sklearn.model_selection import cross_val_score"
   ]
  },
  {
   "cell_type": "code",
   "execution_count": 11,
   "metadata": {
    "collapsed": true,
    "id": "ni_Q6dT8qJWa"
   },
   "outputs": [],
   "source": [
    "datos_construccion = pd.read_csv(\"./fuga_clientes_empresa_telefonica_construccion.csv\")\n",
    "datos_explotacion  = pd.read_csv(\"./fuga_clientes_empresa_telefonica_explotacion.csv\")"
   ]
  },
  {
   "cell_type": "code",
   "execution_count": 12,
   "metadata": {
    "id": "L2AeGro5qJWb",
    "outputId": "e0190373-59c8-4f0d-90a5-bc02106c510d"
   },
   "outputs": [
    {
     "data": {
      "text/plain": [
       "Index(['Customer ID', 'network_age', 'Customer tenure in month',\n",
       "       'Total Spend in Months 1 and 2', 'Total SMS Spend', 'Total Data Spend',\n",
       "       'Total Data Consumption', 'Total Unique Calls', 'Total Onnet spend',\n",
       "       'Total Offnet spend', 'Total Call centre complaint calls',\n",
       "       'Churn Status', 'Most Loved Competitor network in Month 1_0',\n",
       "       'Most Loved Competitor network in Month 1_Mango',\n",
       "       'Most Loved Competitor network in Month 1_PQza',\n",
       "       'Most Loved Competitor network in Month 1_ToCall',\n",
       "       'Most Loved Competitor network in Month 1_Uxaa',\n",
       "       'Most Loved Competitor network in Month 1_Weematel',\n",
       "       'Most Loved Competitor network in Month 1_Zintel',\n",
       "       'Most Loved Competitor network in Month 2_Mango',\n",
       "       'Most Loved Competitor network in Month 2_PQza',\n",
       "       'Most Loved Competitor network in Month 2_ToCall',\n",
       "       'Most Loved Competitor network in Month 2_Uxaa',\n",
       "       'Most Loved Competitor network in Month 2_Weematel',\n",
       "       'Most Loved Competitor network in Month 2_Zintel'],\n",
       "      dtype='object')"
      ]
     },
     "execution_count": 12,
     "metadata": {},
     "output_type": "execute_result"
    }
   ],
   "source": [
    "datos_construccion.columns"
   ]
  },
  {
   "cell_type": "code",
   "execution_count": 13,
   "metadata": {
    "id": "q51feFD8qJWe",
    "outputId": "dd3597fd-72a6-4163-8542-e417c9a2a344"
   },
   "outputs": [
    {
     "data": {
      "text/plain": [
       "Index(['Customer ID', 'network_age', 'Customer tenure in month',\n",
       "       'Total Spend in Months 1 and 2', 'Total SMS Spend', 'Total Data Spend',\n",
       "       'Total Data Consumption', 'Total Unique Calls', 'Total Onnet spend',\n",
       "       'Total Offnet spend', 'Total Call centre complaint calls',\n",
       "       'Churn Status', 'Most Loved Competitor network in Month 1_0',\n",
       "       'Most Loved Competitor network in Month 1_Mango',\n",
       "       'Most Loved Competitor network in Month 1_PQza',\n",
       "       'Most Loved Competitor network in Month 1_ToCall',\n",
       "       'Most Loved Competitor network in Month 1_Uxaa',\n",
       "       'Most Loved Competitor network in Month 1_Weematel',\n",
       "       'Most Loved Competitor network in Month 1_Zintel',\n",
       "       'Most Loved Competitor network in Month 2_Mango',\n",
       "       'Most Loved Competitor network in Month 2_PQza',\n",
       "       'Most Loved Competitor network in Month 2_ToCall',\n",
       "       'Most Loved Competitor network in Month 2_Uxaa',\n",
       "       'Most Loved Competitor network in Month 2_Weematel',\n",
       "       'Most Loved Competitor network in Month 2_Zintel'],\n",
       "      dtype='object')"
      ]
     },
     "execution_count": 13,
     "metadata": {},
     "output_type": "execute_result"
    }
   ],
   "source": [
    "datos_explotacion.columns"
   ]
  },
  {
   "cell_type": "code",
   "execution_count": 14,
   "metadata": {
    "id": "dhvAFWyIqJWf",
    "outputId": "0d9d1d6e-7ec9-49d1-9682-67e75bd2f2ea"
   },
   "outputs": [
    {
     "data": {
      "text/plain": [
       "0"
      ]
     },
     "execution_count": 14,
     "metadata": {},
     "output_type": "execute_result"
    }
   ],
   "source": [
    "# chequeo de que las columnas son exactamente las mismas en los dos ficheros:\n",
    "\n",
    "sum(datos_construccion.columns != datos_explotacion.columns)"
   ]
  },
  {
   "cell_type": "code",
   "execution_count": 15,
   "metadata": {
    "id": "Ig-BxKy0qJWf",
    "outputId": "d315f655-13a5-4025-d577-0c6167cf3639"
   },
   "outputs": [
    {
     "data": {
      "text/plain": [
       "array([0, 0, 0, 0, 0, 0, 0, 1, 1, 1])"
      ]
     },
     "execution_count": 15,
     "metadata": {},
     "output_type": "execute_result"
    }
   ],
   "source": [
    "# la columna a predecir es \"Churn Status\"\n",
    "# si es 1, el cliente se va de la compañía\n",
    "# si es 0, el cliente se queda\n",
    "\n",
    "# Esta columna se sabe en el dataset de construcción (ejemplos de clientes pasados):\n",
    "datos_construccion[\"Churn Status\"].values[:10]"
   ]
  },
  {
   "cell_type": "code",
   "execution_count": 16,
   "metadata": {
    "id": "0XGY8DcNqJWg",
    "outputId": "26b66b84-5ee5-4985-d0d3-71d301b0610a"
   },
   "outputs": [
    {
     "data": {
      "text/plain": [
       "array([nan, nan, nan, nan, nan, nan, nan, nan, nan, nan])"
      ]
     },
     "execution_count": 16,
     "metadata": {},
     "output_type": "execute_result"
    }
   ],
   "source": [
    "# Sin embargo no se sabe en el dataset de explotación (clientes actuales):\n",
    "datos_explotacion[\"Churn Status\"].values[:10]"
   ]
  },
  {
   "cell_type": "code",
   "execution_count": 17,
   "metadata": {
    "id": "ncTq7POBqJWg"
   },
   "outputs": [
    {
     "name": "stdout",
     "output_type": "stream",
     "text": [
      "['network_age', 'Customer tenure in month', 'Total Spend in Months 1 and 2', 'Total SMS Spend', 'Total Data Spend', 'Total Data Consumption', 'Total Unique Calls', 'Total Onnet spend', 'Total Offnet spend', 'Total Call centre complaint calls', 'Most Loved Competitor network in Month 1_0', 'Most Loved Competitor network in Month 1_Mango', 'Most Loved Competitor network in Month 1_PQza', 'Most Loved Competitor network in Month 1_ToCall', 'Most Loved Competitor network in Month 1_Uxaa', 'Most Loved Competitor network in Month 1_Weematel', 'Most Loved Competitor network in Month 1_Zintel', 'Most Loved Competitor network in Month 2_Mango', 'Most Loved Competitor network in Month 2_PQza', 'Most Loved Competitor network in Month 2_ToCall', 'Most Loved Competitor network in Month 2_Uxaa', 'Most Loved Competitor network in Month 2_Weematel', 'Most Loved Competitor network in Month 2_Zintel']\n"
     ]
    }
   ],
   "source": [
    "# We delete 'Customer ID' and \"Churn Status\" because it does not allow strings ntor nulls\n",
    "\n",
    "nombres_atrs = list(datos_construccion.columns)\n",
    "nombres_atrs.remove('Churn Status')\n",
    "nombres_atrs.remove('Customer ID')\n",
    "print(nombres_atrs)\n",
    "X = datos_construccion[nombres_atrs].values\n",
    "y = datos_construccion['Churn Status'].values"
   ]
  },
  {
   "cell_type": "code",
   "execution_count": 18,
   "metadata": {
    "id": "Yx_smdnYqJWg",
    "outputId": "314d5556-a74a-4ff7-d8a0-176afdcf5775"
   },
   "outputs": [
    {
     "name": "stdout",
     "output_type": "stream",
     "text": [
      "Score global de DecisionTree: 0.77 +/- 0.06\n",
      "Score global de k-NN: 0.63 +/- 0.05\n",
      "Score global de Naive Bayes Gaussiano: 0.62 +/- 0.02\n",
      "Score global de Regresion Logística: 0.63 +/- 0.01\n",
      "Score global de redes neuronales: 0.55 +/- 0.06\n"
     ]
    }
   ],
   "source": [
    "# We evaluate different methods that we can use to evaluate our database with the values obtained earlier \n",
    "# in the exercise \"02-p4_IA.ipynb\", that is max_depth = 5, n_neighbors = 35, hidden_layer_sizes = (150)\n",
    "# We will obtain the global Score of each model as we did in said exercise\n",
    "\n",
    "import warnings\n",
    "warnings.filterwarnings('ignore')\n",
    "\n",
    "scoreGlobal_DT = DecisionTreeClassifier(max_depth=5)\n",
    "scores = cross_val_score(scoreGlobal_DT, X, y, cv=5)\n",
    "print(\"Score global de DecisionTree: {:.2f} +/- {:.2f}\".format(scores.mean(), scores.std()))\n",
    "\n",
    "scoreGlobal_KNN = KNeighborsClassifier(n_neighbors=35)\n",
    "scores = cross_val_score(scoreGlobal_KNN, X, y, cv=5)\n",
    "print(\"Score global de k-NN: {:.2f} +/- {:.2f}\".format(scores.mean(), scores.std()))\n",
    "\n",
    "scoreGlobal_NB = GaussianNB()\n",
    "scores = cross_val_score(scoreGlobal_NB, X, y, cv=5)\n",
    "print(\"Score global de Naive Bayes Gaussiano: {:.2f} +/- {:.2f}\".format(scores.mean(), scores.std()))\n",
    "\n",
    "scoreGlobal_LR = LogisticRegression(solver='lbfgs')\n",
    "scores = cross_val_score(scoreGlobal_LR, X, y, cv=5)\n",
    "print(\"Score global de Regresion Logística: {:.2f} +/- {:.2f}\".format(scores.mean(), scores.std()))\n",
    "\n",
    "scoreGlobal_MLP = MLPClassifier(hidden_layer_sizes=(150), max_iter=1000, alpha=0)\n",
    "scores = cross_val_score(scoreGlobal_MLP, X, y, cv=5)\n",
    "print(\"Score global de redes neuronales: {:.2f} +/- {:.2f}\".format(scores.mean(), scores.std()))"
   ]
  },
  {
   "cell_type": "markdown",
   "metadata": {
    "id": "H8Vj8aTJqWvE"
   },
   "source": [
    "### Knowing that the DecisionTree is the best option (DecisionTree global score ≈ 0.77 +/- 0.06) to carry out the tests, we must extract the data that suits us to carry out the lost task."
   ]
  },
  {
   "cell_type": "code",
   "execution_count": 22,
   "metadata": {},
   "outputs": [
    {
     "name": "stdout",
     "output_type": "stream",
     "text": [
      "Se van a ir 971 clientes de 1110 predicciones que hemos hecho.\n",
      "Hemos acertado con un 87.48% de probabilidad.\n"
     ]
    }
   ],
   "source": [
    "# First we calculate the probability of hits that we have using the construccion_data file.\n",
    "\n",
    "scoreGlobal_DT.fit(X, y)\n",
    "predictions = scoreGlobal_DT.predict(X)\n",
    "\n",
    "fail = 0\n",
    "succ = 0\n",
    "for i,churn in enumerate(predictions):\n",
    "    if churn == y[i]:\n",
    "        succ += 1\n",
    "    else:\n",
    "        fail += 1\n",
    "        \n",
    "print(\"Se van a ir\", succ,\"clientes de\",succ+fail,\"predicciones que hemos hecho.\")\n",
    "print(\"Hemos acertado con un {:.2f}% de probabilidad.\".format((succ / (succ+fail))*100))"
   ]
  },
  {
   "cell_type": "code",
   "execution_count": 23,
   "metadata": {
    "colab": {
     "base_uri": "https://localhost:8080/",
     "height": 244
    },
    "executionInfo": {
     "elapsed": 1074,
     "status": "error",
     "timestamp": 1620472126919,
     "user": {
      "displayName": "S. Xiao Fernandez Marin",
      "photoUrl": "https://lh3.googleusercontent.com/a-/AOh14GhhanzQB--5z3qPG8a0FoFY-d_9PmM6lk2biDw5MYk=s64",
      "userId": "06590522717613002410"
     },
     "user_tz": -120
    },
    "id": "DYm9EpOfqJWk",
    "outputId": "172a2c81-ce81-499a-fe81-1d8336ba7ea8",
    "scrolled": true
   },
   "outputs": [
    {
     "name": "stdout",
     "output_type": "stream",
     "text": [
      "Se van a ir 114 clientes de 289\n",
      "Sabemos que va a ser cierto con un 87.48% de probabilidad.\n"
     ]
    }
   ],
   "source": [
    "# Finally, we predict the number of coustumers that are soing to leave the company.\n",
    "\n",
    "predictions = scoreGlobal_DT.predict(datos_explotacion[nombres_atrs].values)\n",
    "\n",
    "stay = go = 0\n",
    "for i,n in enumerate(predictions):\n",
    "    if n == 1:\n",
    "        go += 1\n",
    "    else:\n",
    "        stay += 1\n",
    "        \n",
    "print(\"Se van a ir\", go,\"clientes de\",go+stay)\n",
    "print(\"Sabemos que va a ser cierto con un {:.2f}% de probabilidad.\".format((succ / (succ+fail))*100))"
   ]
  },
  {
   "cell_type": "code",
   "execution_count": 25,
   "metadata": {
    "id": "DVz7Fg-SqJWl",
    "outputId": "9245da58-033a-4a37-dec5-c3b1a86361eb"
   },
   "outputs": [
    {
     "data": {
      "text/html": [
       "<div>\n",
       "<style>\n",
       "    .dataframe thead tr:only-child th {\n",
       "        text-align: right;\n",
       "    }\n",
       "\n",
       "    .dataframe thead th {\n",
       "        text-align: left;\n",
       "    }\n",
       "\n",
       "    .dataframe tbody tr th {\n",
       "        vertical-align: top;\n",
       "    }\n",
       "</style>\n",
       "<table border=\"1\" class=\"dataframe\">\n",
       "  <thead>\n",
       "    <tr style=\"text-align: right;\">\n",
       "      <th></th>\n",
       "      <th>Customer ID</th>\n",
       "    </tr>\n",
       "  </thead>\n",
       "  <tbody>\n",
       "    <tr>\n",
       "      <th>30</th>\n",
       "      <td>ADF1560</td>\n",
       "    </tr>\n",
       "    <tr>\n",
       "      <th>31</th>\n",
       "      <td>ADF1561</td>\n",
       "    </tr>\n",
       "    <tr>\n",
       "      <th>33</th>\n",
       "      <td>ADF1563</td>\n",
       "    </tr>\n",
       "    <tr>\n",
       "      <th>34</th>\n",
       "      <td>ADF1564</td>\n",
       "    </tr>\n",
       "    <tr>\n",
       "      <th>35</th>\n",
       "      <td>ADF1567</td>\n",
       "    </tr>\n",
       "  </tbody>\n",
       "</table>\n",
       "</div>"
      ],
      "text/plain": [
       "   Customer ID\n",
       "30     ADF1560\n",
       "31     ADF1561\n",
       "33     ADF1563\n",
       "34     ADF1564\n",
       "35     ADF1567"
      ]
     },
     "execution_count": 25,
     "metadata": {},
     "output_type": "execute_result"
    }
   ],
   "source": [
    "# Now we concatenate the ID of the client together with the prediction that we have obtained previously.\n",
    "# With the help of pandas we put it in a matrix, of which we are only interested that the prediction we have\n",
    "# obtained is equal to 1, that is, they leave the company.\n",
    "\n",
    "results = {'Customer ID': datos_explotacion[\"Customer ID\"].values,'Prediction': predictions}\n",
    "results_df = pd.DataFrame(results, columns=['Customer ID','Prediction'])\n",
    "\n",
    "results_df = results_df[results_df['Prediction']==1][['Customer ID']]\n",
    "results_df.head()"
   ]
  },
  {
   "cell_type": "code",
   "execution_count": 26,
   "metadata": {
    "collapsed": true,
    "id": "xQm3SXgQqJWm"
   },
   "outputs": [],
   "source": [
    "# we copy the matrix in the .csv\n",
    "\n",
    "results_df.head(100).to_csv('ClientesQueSeVan.csv', index=False)"
   ]
  },
  {
   "cell_type": "code",
   "execution_count": null,
   "metadata": {
    "collapsed": true
   },
   "outputs": [],
   "source": []
  }
 ],
 "metadata": {
  "colab": {
   "name": "04-p4_IA.ipynb",
   "provenance": []
  },
  "kernelspec": {
   "display_name": "Python 3",
   "language": "python",
   "name": "python3"
  },
  "language_info": {
   "codemirror_mode": {
    "name": "ipython",
    "version": 3
   },
   "file_extension": ".py",
   "mimetype": "text/x-python",
   "name": "python",
   "nbconvert_exporter": "python",
   "pygments_lexer": "ipython3",
   "version": "3.6.3"
  }
 },
 "nbformat": 4,
 "nbformat_minor": 1
}
